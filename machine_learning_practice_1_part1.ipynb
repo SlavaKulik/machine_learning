{
  "nbformat": 4,
  "nbformat_minor": 0,
  "metadata": {
    "colab": {
      "provenance": [],
      "authorship_tag": "ABX9TyM8IFQojzu/58HGVjO0SrI1",
      "include_colab_link": true
    },
    "kernelspec": {
      "name": "python3",
      "display_name": "Python 3"
    },
    "language_info": {
      "name": "python"
    }
  },
  "cells": [
    {
      "cell_type": "markdown",
      "metadata": {
        "id": "view-in-github",
        "colab_type": "text"
      },
      "source": [
        "<a href=\"https://colab.research.google.com/github/SlavaKulik/machine_learning/blob/main/machine_learning_practice_1_part1.ipynb\" target=\"_parent\"><img src=\"https://colab.research.google.com/assets/colab-badge.svg\" alt=\"Open In Colab\"/></a>"
      ]
    },
    {
      "cell_type": "code",
      "execution_count": 4,
      "metadata": {
        "id": "3wIPA2jvZ-hv"
      },
      "outputs": [],
      "source": [
        "import pandas as pd\n",
        "import numpy as np"
      ]
    },
    {
      "cell_type": "code",
      "source": [
        "exam = {'name':['Mike', 'Nike', 'Pike', 'Gike'],\n",
        "        'score':[20,30,40,50],\n",
        "        'attemps':[2,3,1,2],\n",
        "        'qualification':['yes','no','yes','no']}\n",
        "label=['a','b','c','d']\n",
        "\n",
        "data = pd.DataFrame(exam, index=label)\n",
        "print(data)"
      ],
      "metadata": {
        "colab": {
          "base_uri": "https://localhost:8080/"
        },
        "id": "_A2NexzjaXfS",
        "outputId": "e2077d4b-c162-4109-cf64-b900e78e173f"
      },
      "execution_count": 5,
      "outputs": [
        {
          "output_type": "stream",
          "name": "stdout",
          "text": [
            "   name  score  attemps qualification\n",
            "a  Mike     20        2           yes\n",
            "b  Nike     30        3            no\n",
            "c  Pike     40        1           yes\n",
            "d  Gike     50        2            no\n"
          ]
        }
      ]
    },
    {
      "cell_type": "code",
      "source": [
        "print(\"Data information\")\n",
        "print(data.info())"
      ],
      "metadata": {
        "colab": {
          "base_uri": "https://localhost:8080/"
        },
        "id": "yf8NFwkObvAn",
        "outputId": "4c23ba73-8f7b-4805-dfdd-27c9cafa7572"
      },
      "execution_count": 6,
      "outputs": [
        {
          "output_type": "stream",
          "name": "stdout",
          "text": [
            "Data information\n",
            "<class 'pandas.core.frame.DataFrame'>\n",
            "Index: 4 entries, a to d\n",
            "Data columns (total 4 columns):\n",
            " #   Column         Non-Null Count  Dtype \n",
            "---  ------         --------------  ----- \n",
            " 0   name           4 non-null      object\n",
            " 1   score          4 non-null      int64 \n",
            " 2   attemps        4 non-null      int64 \n",
            " 3   qualification  4 non-null      object\n",
            "dtypes: int64(2), object(2)\n",
            "memory usage: 332.0+ bytes\n",
            "None\n"
          ]
        }
      ]
    },
    {
      "cell_type": "code",
      "source": [
        "print(\"Name and score of first 3 person\")\n",
        "print(data[['name','score']].iloc[:3])"
      ],
      "metadata": {
        "colab": {
          "base_uri": "https://localhost:8080/"
        },
        "id": "Enpm8LhfcOKN",
        "outputId": "2a103b81-61e5-46ff-93bb-16e2ca2da18f"
      },
      "execution_count": 9,
      "outputs": [
        {
          "output_type": "stream",
          "name": "stdout",
          "text": [
            "Name and score of first 3 person\n",
            "   name  score\n",
            "a  Mike     20\n",
            "b  Nike     30\n",
            "c  Pike     40\n"
          ]
        }
      ]
    },
    {
      "cell_type": "code",
      "source": [
        "print(\"Number of attemps in the examination is greater than 2\")\n",
        "print(data[data['attemps']>2])"
      ],
      "metadata": {
        "colab": {
          "base_uri": "https://localhost:8080/"
        },
        "id": "f6x2Wr2adGyv",
        "outputId": "279c0f5e-cb74-4e02-880c-54879c096408"
      },
      "execution_count": 10,
      "outputs": [
        {
          "output_type": "stream",
          "name": "stdout",
          "text": [
            "Number of attemps in the examination is greater than 2\n",
            "   name  score  attemps qualification\n",
            "b  Nike     30        3            no\n"
          ]
        }
      ]
    },
    {
      "cell_type": "code",
      "source": [
        "print(data.loc[data['attemps']>2, 'name'])\n",
        "print(data.loc[data['attemps']>2, ['name']])"
      ],
      "metadata": {
        "colab": {
          "base_uri": "https://localhost:8080/"
        },
        "id": "RW042fEhdpKf",
        "outputId": "0b55518c-ed96-4e2e-aca1-5c6aaf3ad837"
      },
      "execution_count": 12,
      "outputs": [
        {
          "output_type": "stream",
          "name": "stdout",
          "text": [
            "b    Nike\n",
            "Name: name, dtype: object\n",
            "   name\n",
            "b  Nike\n"
          ]
        }
      ]
    }
  ]
}