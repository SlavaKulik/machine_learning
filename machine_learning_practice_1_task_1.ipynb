{
  "nbformat": 4,
  "nbformat_minor": 0,
  "metadata": {
    "colab": {
      "provenance": [],
      "authorship_tag": "ABX9TyOFlVJt0WEeTRZuC9Ln2Pqi",
      "include_colab_link": true
    },
    "kernelspec": {
      "name": "python3",
      "display_name": "Python 3"
    },
    "language_info": {
      "name": "python"
    }
  },
  "cells": [
    {
      "cell_type": "markdown",
      "metadata": {
        "id": "view-in-github",
        "colab_type": "text"
      },
      "source": [
        "<a href=\"https://colab.research.google.com/github/SlavaKulik/machine_learning/blob/main/machine_learning_practice_1_task_1.ipynb\" target=\"_parent\"><img src=\"https://colab.research.google.com/assets/colab-badge.svg\" alt=\"Open In Colab\"/></a>"
      ]
    },
    {
      "cell_type": "code",
      "execution_count": 1,
      "metadata": {
        "id": "rl4YJK3gjzCP"
      },
      "outputs": [],
      "source": [
        "import pandas as pd\n",
        "import numpy as np\n",
        "import seaborn as sn"
      ]
    },
    {
      "cell_type": "code",
      "source": [
        "planets = sn.load_dataset('planets')"
      ],
      "metadata": {
        "id": "aYcEcWEpkGLv"
      },
      "execution_count": 2,
      "outputs": []
    },
    {
      "cell_type": "code",
      "source": [
        "print(\"Print general data\")\n",
        "pl_data = planets.info()\n",
        "print(pl_data)"
      ],
      "metadata": {
        "colab": {
          "base_uri": "https://localhost:8080/"
        },
        "id": "XNsP0foykM7Q",
        "outputId": "5efd8a8a-90e4-483f-8533-2df9b21d6b21"
      },
      "execution_count": 10,
      "outputs": [
        {
          "output_type": "stream",
          "name": "stdout",
          "text": [
            "Print general data\n",
            "<class 'pandas.core.frame.DataFrame'>\n",
            "RangeIndex: 1035 entries, 0 to 1034\n",
            "Data columns (total 6 columns):\n",
            " #   Column          Non-Null Count  Dtype  \n",
            "---  ------          --------------  -----  \n",
            " 0   method          1035 non-null   object \n",
            " 1   number          1035 non-null   int64  \n",
            " 2   orbital_period  992 non-null    float64\n",
            " 3   mass            513 non-null    float64\n",
            " 4   distance        808 non-null    float64\n",
            " 5   year            1035 non-null   int64  \n",
            "dtypes: float64(3), int64(2), object(1)\n",
            "memory usage: 48.6+ KB\n",
            "None\n"
          ]
        }
      ]
    },
    {
      "cell_type": "code",
      "source": [
        "print(\"Data dimensions\")\n",
        "pl_size = planets.shape\n",
        "print(pl_size)"
      ],
      "metadata": {
        "colab": {
          "base_uri": "https://localhost:8080/"
        },
        "id": "VchQ0oX8ktUy",
        "outputId": "36626709-49f6-4fd1-db88-63ad10022ffc"
      },
      "execution_count": 11,
      "outputs": [
        {
          "output_type": "stream",
          "name": "stdout",
          "text": [
            "Data dimensions\n",
            "(1035, 6)\n"
          ]
        }
      ]
    },
    {
      "cell_type": "code",
      "source": [
        "print(\"General stats\")\n",
        "pl_general_stats = planets.describe()\n",
        "print(pl_general_stats)"
      ],
      "metadata": {
        "colab": {
          "base_uri": "https://localhost:8080/"
        },
        "id": "ZVnGvG2Gk6TQ",
        "outputId": "fe473f29-f497-4025-d321-ca27d9ed364c"
      },
      "execution_count": 12,
      "outputs": [
        {
          "output_type": "stream",
          "name": "stdout",
          "text": [
            "General stats\n",
            "            number  orbital_period        mass     distance         year\n",
            "count  1035.000000      992.000000  513.000000   808.000000  1035.000000\n",
            "mean      1.785507     2002.917596    2.638161   264.069282  2009.070531\n",
            "std       1.240976    26014.728304    3.818617   733.116493     3.972567\n",
            "min       1.000000        0.090706    0.003600     1.350000  1989.000000\n",
            "25%       1.000000        5.442540    0.229000    32.560000  2007.000000\n",
            "50%       1.000000       39.979500    1.260000    55.250000  2010.000000\n",
            "75%       2.000000      526.005000    3.040000   178.500000  2012.000000\n",
            "max       7.000000   730000.000000   25.000000  8500.000000  2014.000000\n"
          ]
        }
      ]
    },
    {
      "cell_type": "code",
      "source": [
        "print(\"First 7 and last 7 rows\")\n",
        "pl_head = planets.head(7)\n",
        "pl_tail = planets.tail(7)\n",
        "print(pl_head)\n",
        "print(pl_tail)"
      ],
      "metadata": {
        "colab": {
          "base_uri": "https://localhost:8080/"
        },
        "id": "ZRWv-JJjlWcw",
        "outputId": "fba1ab0a-838f-4697-c0f1-ed64e2fd048e"
      },
      "execution_count": 13,
      "outputs": [
        {
          "output_type": "stream",
          "name": "stdout",
          "text": [
            "First 7 and last 7 rows\n",
            "            method  number  orbital_period   mass  distance  year\n",
            "0  Radial Velocity       1         269.300   7.10     77.40  2006\n",
            "1  Radial Velocity       1         874.774   2.21     56.95  2008\n",
            "2  Radial Velocity       1         763.000   2.60     19.84  2011\n",
            "3  Radial Velocity       1         326.030  19.40    110.62  2007\n",
            "4  Radial Velocity       1         516.220  10.50    119.47  2009\n",
            "5  Radial Velocity       1         185.840   4.80     76.39  2008\n",
            "6  Radial Velocity       1        1773.400   4.64     18.15  2002\n",
            "       method  number  orbital_period  mass  distance  year\n",
            "1028  Transit       1        3.352057   NaN    3200.0  2012\n",
            "1029  Imaging       1             NaN   NaN      10.1  2012\n",
            "1030  Transit       1        3.941507   NaN     172.0  2006\n",
            "1031  Transit       1        2.615864   NaN     148.0  2007\n",
            "1032  Transit       1        3.191524   NaN     174.0  2007\n",
            "1033  Transit       1        4.125083   NaN     293.0  2008\n",
            "1034  Transit       1        4.187757   NaN     260.0  2008\n"
          ]
        }
      ]
    },
    {
      "cell_type": "code",
      "source": [
        "print(\"List of methods\")\n",
        "print(planets['method'].value_counts())\n",
        "print(\"List of years\")\n",
        "print(planets['year'].value_counts())"
      ],
      "metadata": {
        "colab": {
          "base_uri": "https://localhost:8080/"
        },
        "id": "kJE_gwqClqfX",
        "outputId": "64d8057a-24fa-4d03-988f-ffb80b64ed8d"
      },
      "execution_count": 15,
      "outputs": [
        {
          "output_type": "stream",
          "name": "stdout",
          "text": [
            "List of methods\n",
            "Radial Velocity                  553\n",
            "Transit                          397\n",
            "Imaging                           38\n",
            "Microlensing                      23\n",
            "Eclipse Timing Variations          9\n",
            "Pulsar Timing                      5\n",
            "Transit Timing Variations          4\n",
            "Orbital Brightness Modulation      3\n",
            "Astrometry                         2\n",
            "Pulsation Timing Variations        1\n",
            "Name: method, dtype: int64\n",
            "List of years\n",
            "2011    185\n",
            "2012    140\n",
            "2013    118\n",
            "2010    102\n",
            "2009     98\n",
            "2008     74\n",
            "2007     53\n",
            "2014     52\n",
            "2005     39\n",
            "2002     32\n",
            "2006     31\n",
            "2004     26\n",
            "2003     25\n",
            "2000     16\n",
            "1999     15\n",
            "2001     12\n",
            "1996      6\n",
            "1998      5\n",
            "1992      2\n",
            "1995      1\n",
            "1997      1\n",
            "1989      1\n",
            "1994      1\n",
            "Name: year, dtype: int64\n"
          ]
        }
      ]
    },
    {
      "cell_type": "code",
      "source": [
        "print(\"All records by 2003\")\n",
        "print(planets[planets['year'] == 2003])"
      ],
      "metadata": {
        "colab": {
          "base_uri": "https://localhost:8080/"
        },
        "id": "-KXCEqM7nVD_",
        "outputId": "96e96e81-7824-41fa-98ff-9237247294b5"
      },
      "execution_count": 16,
      "outputs": [
        {
          "output_type": "stream",
          "name": "stdout",
          "text": [
            "All records by 2003\n",
            "              method  number  orbital_period    mass  distance  year\n",
            "52   Radial Velocity       1       903.30000   1.850     13.79  2003\n",
            "207  Radial Velocity       1        62.21800   0.229     11.11  2003\n",
            "219  Radial Velocity       1        22.09000   0.480     40.32  2003\n",
            "258  Radial Velocity       1       466.20000   1.370     22.38  2003\n",
            "274  Radial Velocity       1      1561.00000   7.710     51.97  2003\n",
            "317  Radial Velocity       1         1.32830  18.370     43.03  2003\n",
            "341  Radial Velocity       1       303.00000   5.250     92.51  2003\n",
            "347  Radial Velocity       2       572.40000   1.260     35.59  2003\n",
            "356  Radial Velocity       1      2231.00000   2.000     28.76  2003\n",
            "359  Radial Velocity       1         2.54858   1.870     36.52  2003\n",
            "363  Radial Velocity       3        51.64500   1.800     64.56  2003\n",
            "364  Radial Velocity       3      2473.00000   8.060     64.56  2003\n",
            "374  Radial Velocity       2       441.47000     NaN     27.46  2003\n",
            "375  Radial Velocity       2       220.07800     NaN     27.46  2003\n",
            "419  Radial Velocity       1       199.50500   8.300    102.04  2003\n",
            "434  Radial Velocity       1      1143.00000   6.800     28.88  2003\n",
            "438  Radial Velocity       2       937.70000   1.240     28.04  2003\n",
            "449  Radial Velocity       1        63.33000   1.220     44.37  2003\n",
            "450  Radial Velocity       1       344.95000   3.710    133.16  2003\n",
            "481  Radial Velocity       1       386.30000   1.620     34.57  2003\n",
            "487  Radial Velocity       1       528.40000   1.210     12.87  2003\n",
            "530  Radial Velocity       2      2102.00000   4.040     36.32  2003\n",
            "560  Radial Velocity       2      2891.00000   1.502     15.89  2003\n",
            "602  Radial Velocity       1       118.45000   0.650     37.89  2003\n",
            "944    Pulsar Timing       1     36525.00000     NaN       NaN  2003\n"
          ]
        }
      ]
    },
    {
      "cell_type": "code",
      "source": [
        "max_mass = np.max(planets['mass'])\n",
        "print(planets[planets['mass'] == max_mass])"
      ],
      "metadata": {
        "colab": {
          "base_uri": "https://localhost:8080/"
        },
        "id": "Zzwtth01nkIS",
        "outputId": "a2934925-673b-4155-96a6-73b756417249"
      },
      "execution_count": 18,
      "outputs": [
        {
          "output_type": "stream",
          "name": "stdout",
          "text": [
            "              method  number  orbital_period  mass  distance  year\n",
            "321  Radial Velocity       1          2371.0  25.0     37.05  2008\n"
          ]
        }
      ]
    },
    {
      "cell_type": "code",
      "source": [
        "planets.groupby(['method']).agg({'orbital_period':['min','max'], 'mass':['min', 'max'], 'distance':['min', 'max']})"
      ],
      "metadata": {
        "colab": {
          "base_uri": "https://localhost:8080/",
          "height": 426
        },
        "id": "xr1lh4ZQoANG",
        "outputId": "60e9811a-395e-48b6-b7b5-4ae575926af3"
      },
      "execution_count": 19,
      "outputs": [
        {
          "output_type": "execute_result",
          "data": {
            "text/plain": [
              "                              orbital_period                   mass         \\\n",
              "                                         min            max     min    max   \n",
              "method                                                                       \n",
              "Astrometry                        246.360000    1016.000000     NaN    NaN   \n",
              "Eclipse Timing Variations        1916.250000   10220.000000  4.2000   6.05   \n",
              "Imaging                          4639.150000  730000.000000     NaN    NaN   \n",
              "Microlensing                     1825.000000    5100.000000     NaN    NaN   \n",
              "Orbital Brightness Modulation       0.240104       1.544929     NaN    NaN   \n",
              "Pulsar Timing                       0.090706   36525.000000     NaN    NaN   \n",
              "Pulsation Timing Variations      1170.000000    1170.000000     NaN    NaN   \n",
              "Radial Velocity                     0.736540   17337.500000  0.0036  25.00   \n",
              "Transit                             0.355000     331.600590  1.4700   1.47   \n",
              "Transit Timing Variations          22.339500     160.000000     NaN    NaN   \n",
              "\n",
              "                              distance           \n",
              "                                   min      max  \n",
              "method                                           \n",
              "Astrometry                       14.98    20.77  \n",
              "Eclipse Timing Variations       130.72   500.00  \n",
              "Imaging                           7.69   165.00  \n",
              "Microlensing                   1760.00  7720.00  \n",
              "Orbital Brightness Modulation  1180.00  1180.00  \n",
              "Pulsar Timing                  1200.00  1200.00  \n",
              "Pulsation Timing Variations        NaN      NaN  \n",
              "Radial Velocity                   1.35   354.00  \n",
              "Transit                          38.00  8500.00  \n",
              "Transit Timing Variations       339.00  2119.00  "
            ],
            "text/html": [
              "\n",
              "  <div id=\"df-7f6cff31-cda0-4e57-9033-e89984dc3c2b\">\n",
              "    <div class=\"colab-df-container\">\n",
              "      <div>\n",
              "<style scoped>\n",
              "    .dataframe tbody tr th:only-of-type {\n",
              "        vertical-align: middle;\n",
              "    }\n",
              "\n",
              "    .dataframe tbody tr th {\n",
              "        vertical-align: top;\n",
              "    }\n",
              "\n",
              "    .dataframe thead tr th {\n",
              "        text-align: left;\n",
              "    }\n",
              "\n",
              "    .dataframe thead tr:last-of-type th {\n",
              "        text-align: right;\n",
              "    }\n",
              "</style>\n",
              "<table border=\"1\" class=\"dataframe\">\n",
              "  <thead>\n",
              "    <tr>\n",
              "      <th></th>\n",
              "      <th colspan=\"2\" halign=\"left\">orbital_period</th>\n",
              "      <th colspan=\"2\" halign=\"left\">mass</th>\n",
              "      <th colspan=\"2\" halign=\"left\">distance</th>\n",
              "    </tr>\n",
              "    <tr>\n",
              "      <th></th>\n",
              "      <th>min</th>\n",
              "      <th>max</th>\n",
              "      <th>min</th>\n",
              "      <th>max</th>\n",
              "      <th>min</th>\n",
              "      <th>max</th>\n",
              "    </tr>\n",
              "    <tr>\n",
              "      <th>method</th>\n",
              "      <th></th>\n",
              "      <th></th>\n",
              "      <th></th>\n",
              "      <th></th>\n",
              "      <th></th>\n",
              "      <th></th>\n",
              "    </tr>\n",
              "  </thead>\n",
              "  <tbody>\n",
              "    <tr>\n",
              "      <th>Astrometry</th>\n",
              "      <td>246.360000</td>\n",
              "      <td>1016.000000</td>\n",
              "      <td>NaN</td>\n",
              "      <td>NaN</td>\n",
              "      <td>14.98</td>\n",
              "      <td>20.77</td>\n",
              "    </tr>\n",
              "    <tr>\n",
              "      <th>Eclipse Timing Variations</th>\n",
              "      <td>1916.250000</td>\n",
              "      <td>10220.000000</td>\n",
              "      <td>4.2000</td>\n",
              "      <td>6.05</td>\n",
              "      <td>130.72</td>\n",
              "      <td>500.00</td>\n",
              "    </tr>\n",
              "    <tr>\n",
              "      <th>Imaging</th>\n",
              "      <td>4639.150000</td>\n",
              "      <td>730000.000000</td>\n",
              "      <td>NaN</td>\n",
              "      <td>NaN</td>\n",
              "      <td>7.69</td>\n",
              "      <td>165.00</td>\n",
              "    </tr>\n",
              "    <tr>\n",
              "      <th>Microlensing</th>\n",
              "      <td>1825.000000</td>\n",
              "      <td>5100.000000</td>\n",
              "      <td>NaN</td>\n",
              "      <td>NaN</td>\n",
              "      <td>1760.00</td>\n",
              "      <td>7720.00</td>\n",
              "    </tr>\n",
              "    <tr>\n",
              "      <th>Orbital Brightness Modulation</th>\n",
              "      <td>0.240104</td>\n",
              "      <td>1.544929</td>\n",
              "      <td>NaN</td>\n",
              "      <td>NaN</td>\n",
              "      <td>1180.00</td>\n",
              "      <td>1180.00</td>\n",
              "    </tr>\n",
              "    <tr>\n",
              "      <th>Pulsar Timing</th>\n",
              "      <td>0.090706</td>\n",
              "      <td>36525.000000</td>\n",
              "      <td>NaN</td>\n",
              "      <td>NaN</td>\n",
              "      <td>1200.00</td>\n",
              "      <td>1200.00</td>\n",
              "    </tr>\n",
              "    <tr>\n",
              "      <th>Pulsation Timing Variations</th>\n",
              "      <td>1170.000000</td>\n",
              "      <td>1170.000000</td>\n",
              "      <td>NaN</td>\n",
              "      <td>NaN</td>\n",
              "      <td>NaN</td>\n",
              "      <td>NaN</td>\n",
              "    </tr>\n",
              "    <tr>\n",
              "      <th>Radial Velocity</th>\n",
              "      <td>0.736540</td>\n",
              "      <td>17337.500000</td>\n",
              "      <td>0.0036</td>\n",
              "      <td>25.00</td>\n",
              "      <td>1.35</td>\n",
              "      <td>354.00</td>\n",
              "    </tr>\n",
              "    <tr>\n",
              "      <th>Transit</th>\n",
              "      <td>0.355000</td>\n",
              "      <td>331.600590</td>\n",
              "      <td>1.4700</td>\n",
              "      <td>1.47</td>\n",
              "      <td>38.00</td>\n",
              "      <td>8500.00</td>\n",
              "    </tr>\n",
              "    <tr>\n",
              "      <th>Transit Timing Variations</th>\n",
              "      <td>22.339500</td>\n",
              "      <td>160.000000</td>\n",
              "      <td>NaN</td>\n",
              "      <td>NaN</td>\n",
              "      <td>339.00</td>\n",
              "      <td>2119.00</td>\n",
              "    </tr>\n",
              "  </tbody>\n",
              "</table>\n",
              "</div>\n",
              "      <button class=\"colab-df-convert\" onclick=\"convertToInteractive('df-7f6cff31-cda0-4e57-9033-e89984dc3c2b')\"\n",
              "              title=\"Convert this dataframe to an interactive table.\"\n",
              "              style=\"display:none;\">\n",
              "        \n",
              "  <svg xmlns=\"http://www.w3.org/2000/svg\" height=\"24px\"viewBox=\"0 0 24 24\"\n",
              "       width=\"24px\">\n",
              "    <path d=\"M0 0h24v24H0V0z\" fill=\"none\"/>\n",
              "    <path d=\"M18.56 5.44l.94 2.06.94-2.06 2.06-.94-2.06-.94-.94-2.06-.94 2.06-2.06.94zm-11 1L8.5 8.5l.94-2.06 2.06-.94-2.06-.94L8.5 2.5l-.94 2.06-2.06.94zm10 10l.94 2.06.94-2.06 2.06-.94-2.06-.94-.94-2.06-.94 2.06-2.06.94z\"/><path d=\"M17.41 7.96l-1.37-1.37c-.4-.4-.92-.59-1.43-.59-.52 0-1.04.2-1.43.59L10.3 9.45l-7.72 7.72c-.78.78-.78 2.05 0 2.83L4 21.41c.39.39.9.59 1.41.59.51 0 1.02-.2 1.41-.59l7.78-7.78 2.81-2.81c.8-.78.8-2.07 0-2.86zM5.41 20L4 18.59l7.72-7.72 1.47 1.35L5.41 20z\"/>\n",
              "  </svg>\n",
              "      </button>\n",
              "      \n",
              "  <style>\n",
              "    .colab-df-container {\n",
              "      display:flex;\n",
              "      flex-wrap:wrap;\n",
              "      gap: 12px;\n",
              "    }\n",
              "\n",
              "    .colab-df-convert {\n",
              "      background-color: #E8F0FE;\n",
              "      border: none;\n",
              "      border-radius: 50%;\n",
              "      cursor: pointer;\n",
              "      display: none;\n",
              "      fill: #1967D2;\n",
              "      height: 32px;\n",
              "      padding: 0 0 0 0;\n",
              "      width: 32px;\n",
              "    }\n",
              "\n",
              "    .colab-df-convert:hover {\n",
              "      background-color: #E2EBFA;\n",
              "      box-shadow: 0px 1px 2px rgba(60, 64, 67, 0.3), 0px 1px 3px 1px rgba(60, 64, 67, 0.15);\n",
              "      fill: #174EA6;\n",
              "    }\n",
              "\n",
              "    [theme=dark] .colab-df-convert {\n",
              "      background-color: #3B4455;\n",
              "      fill: #D2E3FC;\n",
              "    }\n",
              "\n",
              "    [theme=dark] .colab-df-convert:hover {\n",
              "      background-color: #434B5C;\n",
              "      box-shadow: 0px 1px 3px 1px rgba(0, 0, 0, 0.15);\n",
              "      filter: drop-shadow(0px 1px 2px rgba(0, 0, 0, 0.3));\n",
              "      fill: #FFFFFF;\n",
              "    }\n",
              "  </style>\n",
              "\n",
              "      <script>\n",
              "        const buttonEl =\n",
              "          document.querySelector('#df-7f6cff31-cda0-4e57-9033-e89984dc3c2b button.colab-df-convert');\n",
              "        buttonEl.style.display =\n",
              "          google.colab.kernel.accessAllowed ? 'block' : 'none';\n",
              "\n",
              "        async function convertToInteractive(key) {\n",
              "          const element = document.querySelector('#df-7f6cff31-cda0-4e57-9033-e89984dc3c2b');\n",
              "          const dataTable =\n",
              "            await google.colab.kernel.invokeFunction('convertToInteractive',\n",
              "                                                     [key], {});\n",
              "          if (!dataTable) return;\n",
              "\n",
              "          const docLinkHtml = 'Like what you see? Visit the ' +\n",
              "            '<a target=\"_blank\" href=https://colab.research.google.com/notebooks/data_table.ipynb>data table notebook</a>'\n",
              "            + ' to learn more about interactive tables.';\n",
              "          element.innerHTML = '';\n",
              "          dataTable['output_type'] = 'display_data';\n",
              "          await google.colab.output.renderOutput(dataTable, element);\n",
              "          const docLink = document.createElement('div');\n",
              "          docLink.innerHTML = docLinkHtml;\n",
              "          element.appendChild(docLink);\n",
              "        }\n",
              "      </script>\n",
              "    </div>\n",
              "  </div>\n",
              "  "
            ]
          },
          "metadata": {},
          "execution_count": 19
        }
      ]
    }
  ]
}